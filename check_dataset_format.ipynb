{
 "cells": [
  {
   "cell_type": "markdown",
   "metadata": {},
   "source": [
    "# Check all folders img format."
   ]
  },
  {
   "cell_type": "markdown",
   "metadata": {},
   "source": [
    "find . -name \".DS_Store\" -print -delete \n",
    "# command to delete the .ds store file on Mac"
   ]
  },
  {
   "cell_type": "code",
   "execution_count": 2,
   "metadata": {},
   "outputs": [
    {
     "name": "stdout",
     "output_type": "stream",
     "text": [
      "processing class directory  lung_aca\n",
      "processing class directory  lung_n\n",
      "processing class directory  lung_scc\n",
      " no improper image files were found\n"
     ]
    }
   ],
   "source": [
    "import os\n",
    "import cv2\n",
    "source_dir =r'/Users/Jerry/Documents/code/datasets/lung_1500_ori' # also check the sub folder.\n",
    "\n",
    "def check_images( s_dir, ext_list):\n",
    "    bad_images=[]\n",
    "    bad_ext=[]\n",
    "    s_list= os.listdir(s_dir)\n",
    "    for klass in s_list:\n",
    "        klass_path=os.path.join (s_dir, klass)\n",
    "        print ('processing class directory ', klass)\n",
    "        if os.path.isdir(klass_path):\n",
    "            file_list=os.listdir(klass_path)\n",
    "            for f in file_list:               \n",
    "                f_path=os.path.join (klass_path,f)\n",
    "                index=f.rfind('.')\n",
    "                ext=f[index+1:].lower()\n",
    "                if ext not in ext_list:\n",
    "                    print('file ', f_path, ' has an invalid extension ', ext)\n",
    "                    bad_ext.append(f_path)\n",
    "                if os.path.isfile(f_path):\n",
    "                    try:\n",
    "                        img=cv2.imread(f_path)\n",
    "                        shape=img.shape\n",
    "                    except:\n",
    "                        print('file ', f_path, ' is not a valid image file')\n",
    "                        bad_images.append(f_path)\n",
    "                else:\n",
    "                    print('*** fatal error, you a sub directory ', f, ' in class directory ', klass)\n",
    "        else:\n",
    "            print ('*** WARNING*** you have files in ', s_dir, ' it should only contain sub directories')\n",
    "    return bad_images, bad_ext\n",
    "\n",
    "good_exts=['jpg', 'png', 'jpeg', 'gif', 'bmp' ] # list of acceptable extensions\n",
    "bad_file_list, bad_ext_list=check_images(source_dir, good_exts)\n",
    "if len(bad_file_list) !=0:\n",
    "    print('improper image files are listed below')\n",
    "    for i in range (len(bad_file_list)):\n",
    "        print (bad_file_list[i])\n",
    "else:\n",
    "    print(' no improper image files were found')"
   ]
  },
  {
   "cell_type": "markdown",
   "metadata": {},
   "source": [
    "# Print the index of layer"
   ]
  },
  {
   "cell_type": "code",
   "execution_count": null,
   "metadata": {},
   "outputs": [],
   "source": [
    "layer_names = [layer.name for layer in base_model_1.layers]\n",
    "layer_idx = layer_names.index('add_2')\n",
    "# base_model_1.get_layer('add_2')\n",
    "layer_idx"
   ]
  }
 ],
 "metadata": {
  "kernelspec": {
   "display_name": "Python 3.9.7 ('tf')",
   "language": "python",
   "name": "python3"
  },
  "language_info": {
   "codemirror_mode": {
    "name": "ipython",
    "version": 3
   },
   "file_extension": ".py",
   "mimetype": "text/x-python",
   "name": "python",
   "nbconvert_exporter": "python",
   "pygments_lexer": "ipython3",
   "version": "3.9.7"
  },
  "orig_nbformat": 4,
  "vscode": {
   "interpreter": {
    "hash": "d5dca1b3c45582d5a9ac2fd773f4e78770bd204d91c72f29ebed13f266d19cc1"
   }
  }
 },
 "nbformat": 4,
 "nbformat_minor": 2
}
